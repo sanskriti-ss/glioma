{
 "cells": [
  {
   "cell_type": "markdown",
   "id": "ea71d931-67cf-4bcc-8fa7-7d37b253db12",
   "metadata": {},
   "source": [
    "# 1) Loading in data and importing libraries needed later"
   ]
  },
  {
   "cell_type": "code",
   "execution_count": 1,
   "id": "ac270cef-fe0d-49a6-a993-4bb954033feb",
   "metadata": {},
   "outputs": [],
   "source": [
    "import numpy as np\n",
    "import pandas as pd\n",
    "import matplotlib.pyplot as plt\n",
    "# logiistic regression, allows you to predict differnt classes\n",
    "# patrial least sqyares regression, also used for classes sometimes\n",
    "data_location = 'TCGA_GBM_LGG_Mutations_all.csv'\n",
    "df = pd.read_csv(data_location)\n",
    "data = df.values\n",
    "#making another copy of the data to store edited values\n",
    "data2 = df.values\n",
    "# making another copy to store rounded ages\n",
    "data_roundedages = df.values\n",
    "\n",
    "import scipy as sp\n",
    "from sklearn.linear_model import LinearRegression\n",
    "from sklearn.model_selection import cross_val_score, cross_val_predict, KFold\n",
    "from sklearn.metrics import r2_score\n",
    "from sklearn.utils import resample\n",
    "\n",
    "from sklearn.preprocessing import StandardScaler\n",
    "from sklearn.model_selection import train_test_split\n",
    "from sklearn.linear_model import LogisticRegression\n",
    "from sklearn.metrics import log_loss, roc_auc_score, recall_score, precision_score, average_precision_score, f1_score, classification_report, accuracy_score\n",
    "from sklearn.metrics import RocCurveDisplay"
   ]
  },
  {
   "cell_type": "markdown",
   "id": "c5cb58a5-57d8-4933-bf60-7842bc883730",
   "metadata": {},
   "source": [
    "# 2) Converting string of the age to numbers, and then sorting them into age 'bins', with 10 year intervals. Then, one-hot this to convert to binary.\n",
    "From the bar graph, it is clear that there is at least some significant correlation between age and the glioma form the patient has. Because the model being used is going to take in binary variables, new 'dummy variables' should be made to store which age group a patient belongs to."
   ]
  },
  {
   "cell_type": "code",
   "execution_count": 2,
   "id": "d31317db-0302-4596-a577-b1ef60545a64",
   "metadata": {},
   "outputs": [
    {
     "data": {
      "image/png": "[encoded data removed]",
      "text/plain": [
       "<Figure size 640x480 with 1 Axes>"
      ]
     },
     "metadata": {},
     "output_type": "display_data"
    },
    {
     "name": "stdout",
     "output_type": "stream",
     "text": [
      "Looks like we have 35  total columns now.\n",
      "['LGG' 'TCGA-LGG' 'TCGA-HW-A5KM' 'Male' 30 'Astrocytoma, NOS' 'white'\n",
      " 'MUTATED' 'MUTATED' 'MUTATED' 'NOT_MUTATED' 'NOT_MUTATED' 'NOT_MUTATED'\n",
      " 'NOT_MUTATED' 'NOT_MUTATED' 'NOT_MUTATED' 'NOT_MUTATED' 'NOT_MUTATED'\n",
      " 'NOT_MUTATED' 'NOT_MUTATED' 'NOT_MUTATED' 'NOT_MUTATED' 'NOT_MUTATED'\n",
      " 'NOT_MUTATED' 'NOT_MUTATED' 'NOT_MUTATED' 'NOT_MUTATED' 0 0 1 0 0 0 0 0]\n"
     ]
    }
   ],
   "source": [
    "for i in range(len(data[:,4])):\n",
    "    trial = data[i, 4]\n",
    "    trialarray = trial.split()\n",
    "    #making the age from str to int (had to remove decimal because not all have it)\n",
    "    #patient 42, 438, 672, 707 and 795 dont have the info, so gonna remove them\n",
    "    if i != 41 and i != 437 and i != 671 and i != 706 and i != 794:\n",
    "        age1 = int(trialarray[0])\n",
    "        age1 = round(age1, 3)\n",
    "    else:\n",
    "        age1 = 50\n",
    "    data2[i, 4] = age1\n",
    "#print(data2[:,4])\n",
    "    # editing the data array with the new ages (in integer format)\n",
    "    # note to self: if this reruns, it will try to rewrite the integer, and there WILL be errors\n",
    "    \n",
    "###### Rounding ages to groups\n",
    "for i in range(len(data2[:,4])):\n",
    "    trial = data2[i, 4]\n",
    "    if i != 41 and i != 437 and i != 671 and i != 706 and i != 794:\n",
    "        age1 = int(trial/10)\n",
    "        age1 = age1*10\n",
    "    # assuming age if not given\n",
    "    else:\n",
    "        age1 = 50\n",
    "    data2[i, 4] = age1\n",
    "    \n",
    "count_data = df.groupby([(data2[:, 4]), (data2[:, 0])]).size().unstack()\n",
    "ax = count_data.plot(kind='bar', stacked=True)\n",
    "plt.title('Type of Glioma for different age groups')\n",
    "plt.xlabel('Age')\n",
    "plt.ylabel('Count of Glioma Type')\n",
    "legend_labels = ['LLM', 'GBM']\n",
    "ax.legend(legend_labels, title='Type of Glioma')\n",
    "plt.show()\n",
    "\n",
    "# multiple options, so split the categories\n",
    "ages = data2[:, 4]\n",
    "\n",
    "# Get unique age values\n",
    "unique_ages = np.unique(ages)\n",
    "\n",
    "# Create dummy columns for each unique age\n",
    "dummy_columns = [np.where(ages == age, 1, 0) for age in unique_ages]\n",
    "\n",
    "# Add these columns to your original array\n",
    "# Assuming data2 is a 2D NumPy array\n",
    "data2 = np.column_stack((data2, *dummy_columns))\n",
    "\n",
    "\n",
    "print(\"Looks like we have\", data2.shape[1], \" total columns now.\")\n",
    "print(data2[2, :])"
   ]
  },
  {
   "cell_type": "markdown",
   "id": "15343af1-5896-4da9-9ae1-f978f3182722",
   "metadata": {},
   "source": [
    "# 3) Converting genes to mutated and not mutated in binary 0s and 1s for easier processing. Also converting gender into binary (male = 0, female = 0, and if a patient is missing gender data, deleting the row."
   ]
  },
  {
   "cell_type": "code",
   "execution_count": 3,
   "id": "2b7fb5eb-5b97-46dc-888a-53533fdb03ea",
   "metadata": {},
   "outputs": [
    {
     "name": "stdout",
     "output_type": "stream",
     "text": [
      "['GBM' 'TCGA-GBM' 'TCGA-06-0166' 'Male' 50 'Glioblastoma' 'white' 0 0 0 1\n",
      " 0 0 0 1 0 0 0 0 0 1 0 0 0 0 0 0 0]\n",
      "862\n",
      "Looks like we have 35  total columns now.\n"
     ]
    }
   ],
   "source": [
    "for k in range(7, 27):\n",
    "    for i in range(len(data2[2:,k])+2):\n",
    "        trial = data2[i, k]\n",
    "        if trial == \"MUTATED\":\n",
    "            data2[i, k] = 1\n",
    "        else:\n",
    "            data2[i, k] = 0\n",
    "print(data2[676,0:28])\n",
    "\n",
    "\n",
    "print(len(data2[2:,k])+2)\n",
    "print(\"Looks like we have\", data2.shape[1], \" total columns now.\")"
   ]
  },
  {
   "cell_type": "code",
   "execution_count": 4,
   "id": "f55f6b99-e57c-4fda-b1da-119f45ef5721",
   "metadata": {},
   "outputs": [
    {
     "name": "stdout",
     "output_type": "stream",
     "text": [
      "Looks like we have 858  total rows now.\n"
     ]
    }
   ],
   "source": [
    "for i in reversed(range(len(data2[:, 3]))):\n",
    "    trial = data2[i, 3]\n",
    "    if trial == \"Male\":\n",
    "        data2[i, 3] = 0\n",
    "    if trial == \"Female\":\n",
    "        data2[i, 3] = 1\n",
    "    elif trial == \"--\":\n",
    "        data2 = np.delete(data2, i, axis=0)\n",
    "print(\"Looks like we have\", data2.shape[0], \" total rows now.\")"
   ]
  },
  {
   "cell_type": "markdown",
   "id": "f67d045b-433a-4f32-8fb9-536a90cdc9ab",
   "metadata": {},
   "source": [
    "# 4) Converting race to binary variables\n",
    "Observe that there is not a lot of racial diversity in the data, and in the interest of preventing overfitting, one approach is to convert to 'white' and 'nonwhite' - making this column simply binary."
   ]
  },
  {
   "cell_type": "code",
   "execution_count": 5,
   "id": "342afcdb-6e1c-48ce-bb75-d0b70a56f845",
   "metadata": {},
   "outputs": [
    {
     "name": "stdout",
     "output_type": "stream",
     "text": [
      "858\n",
      "858\n",
      "Looks like we have 35  total columns now.\n"
     ]
    }
   ],
   "source": [
    "print(len(data2[:, 0]))\n",
    "print(len(data2[:, 6]))\n",
    "\n",
    "###\n",
    "count_data = df.groupby([(data2[:, 0]), (data2[:, 6])]).size().unstack()\n",
    "ax = count_data.plot(kind='bar', stacked=True)\n",
    "plt.xlabel('Type of Glioma')\n",
    "plt.ylabel('Count')\n",
    "plt.title('Type of Glioma for different races')\n",
    "race_legend = ['Unavailable', 'American Indian/Alaska Native', 'Asian', 'Black/African American', 'Not reported', 'White']\n",
    "ax.legend(race_legend, title='Race')\n",
    "plt.show()\n",
    "##\n",
    "\n",
    "for i in range(len(data2[:,6])):\n",
    "    trial = data2[i, 6]\n",
    "    if trial == 'white':\n",
    "        race = 1\n",
    "    else:\n",
    "        race = 0\n",
    "    data2[i, 6] = race\n",
    "print(\"Looks like we have\", data2.shape[1], \" total columns now.\")"
   ]
  },
  {
   "cell_type": "code",
   "execution_count": 6,
   "id": "c37ee17e-2d25-4bc4-8ad6-66d3d5eea609",
   "metadata": {},
   "outputs": [
    {
     "name": "stdout",
     "output_type": "stream",
     "text": [
      "['GBM' 'TCGA-GBM' 'TCGA-28-1749' 0 70 'Glioblastoma' 1 0 0 0 1 1 0 0 0 0 0\n",
      " 0 0 0 0 0 0 0 0 0 0 0]\n"
     ]
    }
   ],
   "source": [
    "print(data2[676,0:28])"
   ]
  },
  {
   "cell_type": "markdown",
   "id": "ff8c9962-5eb3-4372-ac3f-7d56a28519d9",
   "metadata": {},
   "source": [
    "# 5) Convert the column with the 'initial diagnoses' into binary through one-hot."
   ]
  },
  {
   "cell_type": "markdown",
   "id": "58e2e328-4269-4de3-b9ba-8802c4d6b00e",
   "metadata": {},
   "source": [
    "print(data[:,5])\n",
    "This prints us out different diagnoses of glioma, such as:\n",
    "Primary_Diagnosis\n",
    "Oligodendroglioma, NOS\n",
    "Mixed glioma\n",
    "Astrocytoma, NOS\n",
    "\n",
    "Like for age, we'll create dummy variables, inspired by https://www.justintodata.com/logistic-regression-example-in-python/"
   ]
  },
  {
   "cell_type": "code",
   "execution_count": 7,
   "id": "366759ca-81a0-4f77-92cd-3412c2b3fb2b",
   "metadata": {},
   "outputs": [
    {
     "name": "stdout",
     "output_type": "stream",
     "text": [
      "[1 'TCGA-GBM' 'TCGA-06-2557' 0 70 'Glioblastoma' 0 0 0 0 0 0 0 0 0 0 0 0 0\n",
      " 0 0 0 0 0 0 0 0 0 0 0 0 0 0 1 0 0.0 0.0 1.0 0.0 0.0 0.0]\n"
     ]
    }
   ],
   "source": [
    "# Convert LGG/GBM to 0 and 1\n",
    "for i in range(len(data2[:,0])):\n",
    "    trial = data2[i, 0]\n",
    "    #print(trial)\n",
    "    if trial == \"LGG\":\n",
    "        data2[i,0] = 0\n",
    "    else:\n",
    "        data2[i,0] = 1\n",
    "\n",
    "        \n",
    "# # multiple options, so split the categories\n",
    "categories_split = np.array([entry.split(',') for entry in data2[:, 5]], dtype=object)\n",
    "\n",
    "# # make unique categories for each type\n",
    "unique_categories = np.unique(categories_split)\n",
    "dummy_variables = np.eye(len(unique_categories))[np.searchsorted(unique_categories, categories_split)]\n",
    "data_v2 = np.concatenate((data2, dummy_variables), axis=1)\n",
    "        \n",
    "print(data_v2[857,:])"
   ]
  },
  {
   "cell_type": "code",
   "execution_count": 8,
   "id": "2102646d-e982-48d0-9745-eec0b28a161b",
   "metadata": {},
   "outputs": [
    {
     "name": "stdout",
     "output_type": "stream",
     "text": [
      "Looks like we have 41  total columns now.\n",
      "[[0 'TCGA-LGG' 'TCGA-QH-A6CY' ... 1.0 0.0 0.0]\n",
      " [0 'TCGA-LGG' 'TCGA-HW-A5KM' ... 0.0 0.0 0.0]\n",
      " [0 'TCGA-LGG' 'TCGA-E1-A7YE' ... 0.0 0.0 0.0]\n",
      " ...\n",
      " [0 'TCGA-LGG' 'TCGA-DU-6399' ... 0.0 1.0 0.0]\n",
      " [0 'TCGA-LGG' 'TCGA-DU-A7TA' ... 0.0 1.0 0.0]\n",
      " [0 'TCGA-LGG' 'TCGA-HT-A5RA' ... 0.0 0.0 0.0]]\n"
     ]
    }
   ],
   "source": [
    "print(\"Looks like we have\", data_v2.shape[1], \" total columns now.\")\n",
    "print(data_v2[1:31, :])"
   ]
  },
  {
   "cell_type": "markdown",
   "id": "3e904341-ffef-456c-9dbc-6b13bd013fba",
   "metadata": {},
   "source": [
    "# 6) Now, let's delete column 1 and 2 (redunandant information and ID taggers respectively). We have converted the initial diagnoses, and ages, to dummy variables added on to the end columns, so deleting that too. Observe that all we have now is binary variables."
   ]
  },
  {
   "cell_type": "code",
   "execution_count": 9,
   "id": "47543092-221f-444d-b2b9-68b29ea0c844",
   "metadata": {},
   "outputs": [
    {
     "name": "stdout",
     "output_type": "stream",
     "text": [
      "Looks like we have 37  total columns now.\n"
     ]
    }
   ],
   "source": [
    "data_v2 = np.delete(data_v2, 5, axis=1)\n",
    "data_v2 = np.delete(data_v2, 4, axis=1)\n",
    "data_v2 = np.delete(data_v2, 2, axis=1)\n",
    "data_v2 = np.delete(data_v2, 1, axis=1)\n",
    "\n",
    "print(\"Looks like we have\", data_v2.shape[1], \" total columns now.\")\n",
    "# notice that rows 2 to 22 now hold the genetic data"
   ]
  },
  {
   "cell_type": "code",
   "execution_count": 10,
   "id": "21fb81ca-6175-4fa4-a9d0-eb78629746eb",
   "metadata": {},
   "outputs": [
    {
     "name": "stdout",
     "output_type": "stream",
     "text": [
      "[1 0 0 0 0 0 0 0 0 0 0 0 0 0 0 0 0 0 0 0 0 0 0 0 0 0 0 0 0 1 0 0.0 0.0 1.0\n",
      " 0.0 0.0 0.0]\n"
     ]
    }
   ],
   "source": [
    "print(data_v2[857, :])"
   ]
  },
  {
   "cell_type": "markdown",
   "id": "5052c43e-b677-4f23-881f-dd2e642e9e74",
   "metadata": {},
   "source": [
    "# 7) Splitting the data into a training and testing set. The training set is 0.9 of the available data (after we've deleted the unnecessary rows, and the testing set is 0.1. "
   ]
  },
  {
   "cell_type": "code",
   "execution_count": 11,
   "id": "9eb8861b-ee7b-4b12-8aaa-05a3b594e42f",
   "metadata": {},
   "outputs": [
    {
     "name": "stdout",
     "output_type": "stream",
     "text": [
      "KFold(n_splits=10, random_state=None, shuffle=True)\n"
     ]
    }
   ],
   "source": [
    "kf = KFold(n_splits=10, shuffle=True)\n",
    "print(kf)"
   ]
  },
  {
   "cell_type": "code",
   "execution_count": 12,
   "id": "7731379f-727b-429d-a358-646ba21de0c9",
   "metadata": {},
   "outputs": [
    {
     "name": "stdout",
     "output_type": "stream",
     "text": [
      "    0  1  2  3  4  5  6  7  8  9   ... 27 28 29 30   31   32   33   34   35  \\\n",
      "383  0  0  1  1  0  0  0  0  1  0  ...  0  0  0  0  0.0  0.0  0.0  0.0  0.0   \n",
      "396  0  0  1  1  0  0  0  0  1  0  ...  1  0  0  0  0.0  0.0  0.0  0.0  0.0   \n",
      "299  0  1  1  1  1  1  0  0  0  0  ...  0  0  0  0  0.0  1.0  0.0  0.0  0.0   \n",
      "751  1  1  1  0  1  0  1  0  0  0  ...  0  0  1  0  0.0  0.0  1.0  0.0  0.0   \n",
      "668  1  0  1  0  0  0  1  0  0  0  ...  0  0  1  0  0.0  0.0  1.0  0.0  0.0   \n",
      "..  .. .. .. .. .. .. .. .. .. ..  ... .. .. .. ..  ...  ...  ...  ...  ...   \n",
      "646  1  0  1  0  1  0  1  0  0  0  ...  0  0  1  0  0.0  0.0  1.0  0.0  0.0   \n",
      "395  0  1  0  0  0  0  0  0  0  0  ...  0  0  0  0  1.0  0.0  0.0  0.0  0.0   \n",
      "488  0  0  1  1  1  0  0  0  0  0  ...  0  0  0  0  0.0  0.0  0.0  1.0  0.0   \n",
      "650  1  0  1  0  1  0  0  0  0  1  ...  0  0  1  0  0.0  0.0  1.0  0.0  0.0   \n",
      "66   0  0  1  1  0  0  0  0  1  0  ...  1  0  0  0  0.0  0.0  0.0  0.0  1.0   \n",
      "\n",
      "      36  \n",
      "383  1.0  \n",
      "396  1.0  \n",
      "299  0.0  \n",
      "751  0.0  \n",
      "668  0.0  \n",
      "..   ...  \n",
      "646  0.0  \n",
      "395  0.0  \n",
      "488  0.0  \n",
      "650  0.0  \n",
      "66   0.0  \n",
      "\n",
      "[772 rows x 37 columns]\n",
      "    0  1  2  3  4  5  6  7  8  9   ... 27 28 29 30   31   32   33   34   35  \\\n",
      "352  0  0  1  0  0  1  0  0  0  0  ...  0  1  0  0  0.0  1.0  0.0  0.0  0.0   \n",
      "544  1  0  0  0  0  0  1  0  0  1  ...  1  0  0  0  0.0  0.0  1.0  0.0  0.0   \n",
      "821  1  1  1  0  0  0  1  0  0  0  ...  0  0  0  0  0.0  0.0  1.0  0.0  0.0   \n",
      "507  1  0  0  0  0  0  0  0  0  0  ...  0  1  0  0  0.0  0.0  1.0  0.0  0.0   \n",
      "499  1  1  0  0  0  0  0  0  0  0  ...  0  0  0  0  0.0  0.0  1.0  0.0  0.0   \n",
      "..  .. .. .. .. .. .. .. .. .. ..  ... .. .. .. ..  ...  ...  ...  ...  ...   \n",
      "129  0  0  1  1  1  1  0  0  0  0  ...  0  0  0  0  0.0  1.0  0.0  0.0  0.0   \n",
      "94   0  0  1  1  0  0  0  0  0  0  ...  1  0  0  0  0.0  1.0  0.0  0.0  0.0   \n",
      "118  0  0  1  0  0  0  0  0  0  0  ...  0  1  0  0  0.0  1.0  0.0  0.0  0.0   \n",
      "172  0  1  0  1  0  0  0  0  0  0  ...  0  0  0  0  0.0  1.0  0.0  0.0  0.0   \n",
      "502  1  1  1  0  0  0  0  0  0  0  ...  0  1  0  0  0.0  0.0  1.0  0.0  0.0   \n",
      "\n",
      "      36  \n",
      "352  0.0  \n",
      "544  0.0  \n",
      "821  0.0  \n",
      "507  0.0  \n",
      "499  0.0  \n",
      "..   ...  \n",
      "129  0.0  \n",
      "94   0.0  \n",
      "118  0.0  \n",
      "172  0.0  \n",
      "502  0.0  \n",
      "\n",
      "[86 rows x 37 columns]\n"
     ]
    }
   ],
   "source": [
    "#But first lets make it into a dataframe again\n",
    "df = pd.DataFrame(data_v2)\n",
    "random_seed = 888\n",
    "df_train, df_test = train_test_split(df, test_size=0.1, random_state=random_seed, stratify=df[0])\n",
    "print(df_train)\n",
    "print(df_test)"
   ]
  },
  {
   "cell_type": "markdown",
   "id": "a43d8989-ad51-44eb-ae73-1291b43f4915",
   "metadata": {},
   "source": [
    "# 8) Going from k = 1 all the way to k = 22 to capture what happens when we use all of the genes. Note that we are ALWAYS using the 'free-of-cost' variables like age, gender, etc. Note that upon closer inspection, the columns which we thought were the 'initial diagnosis' were always giving us a 100% accuracy when they were used, so they were most likely mislabeled and part of the final diagnosis."
   ]
  },
  {
   "cell_type": "code",
   "execution_count": 13,
   "id": "78542bb3-bc00-4b29-b446-af84a63bd193",
   "metadata": {},
   "outputs": [
    {
     "name": "stdout",
     "output_type": "stream",
     "text": [
      "Confusion Matrix\n"
     ]
    },
    {
     "name": "stderr",
     "output_type": "stream",
     "text": [
      "/opt/conda/lib/python3.10/site-packages/sklearn/linear_model/_logistic.py:1173: FutureWarning: `penalty='none'`has been deprecated in 1.2 and will be removed in 1.4. To keep the past behaviour, set `penalty=None`.\n",
      "  warnings.warn(\n",
      "/opt/conda/lib/python3.10/site-packages/sklearn/linear_model/_logistic.py:458: ConvergenceWarning: lbfgs failed to converge (status=1):\n",
      "STOP: TOTAL NO. of ITERATIONS REACHED LIMIT.\n",
      "\n",
      "Increase the number of iterations (max_iter) or scale the data as shown in:\n",
      "    https://scikit-learn.org/stable/modules/preprocessing.html\n",
      "Please also refer to the documentation for alternative solver options:\n",
      "    https://scikit-learn.org/stable/modules/linear_model.html#logistic-regression\n",
      "  n_iter_i = _check_optimize_result(\n"
     ]
    },
    {
     "data": {
      "image/png": "[encoded data removed]",
      "text/plain": [
       "<Figure size 640x480 with 2 Axes>"
      ]
     },
     "metadata": {},
     "output_type": "display_data"
    },
    {
     "data": {
      "image/png": "[encoded data removed]",
      "text/plain": [
       "<Figure size 640x480 with 1 Axes>"
      ]
     },
     "metadata": {},
     "output_type": "display_data"
    }
   ],
   "source": [
    "k = 22\n",
    "# X = df_train.iloc[:, 2:k] # should be 27\n",
    "X = pd.concat([df_train.iloc[:, 2:k], df_train.loc[:, 23:32], df_train.loc[:, 1]], axis=1)\n",
    "y = df_train.iloc[:, 0]\n",
    "\n",
    "X = X.astype(int)\n",
    "y = y.astype(int)\n",
    "\n",
    "clf = LogisticRegression(penalty='none') # logistic regression with no penalty term in the cost function.\n",
    "\n",
    "clf.fit(X, y)\n",
    "\n",
    "# X_test = df_test.iloc[:, 2:k]\n",
    "X_test = pd.concat([df_test.iloc[:, 2:k], df_test.loc[:, 23:32], df_test.loc[:, 1]], axis=1)\n",
    "y_test = df_test.iloc[:, 0]\n",
    "y_test = y_test.astype(int)\n",
    "X_test = X_test.astype(int)\n",
    "\n",
    "test_prob = clf.predict_proba(X_test)[:, 1]\n",
    "test_pred = clf.predict(X_test)\n",
    "\n",
    "from sklearn.metrics import ConfusionMatrixDisplay\n",
    "print('Confusion Matrix')\n",
    "cm_display = ConfusionMatrixDisplay.from_estimator(clf, X_test, y_test)\n",
    "#cm_display.plot()\n",
    "cm_display2 = RocCurveDisplay.from_estimator(clf, X_test, y_test)"
   ]
  },
  {
   "cell_type": "markdown",
   "id": "6a92eb6e-558d-4c91-9f1e-add032dda996",
   "metadata": {},
   "source": [
    "# 9) Out of curiosity, what happens when we add columns of genes one at a time, in the order they were entered in the inital data table? The cell below prints out values from the confusion matrix every time a column is added. Note that although there is an upward trend in accuracy as we add more columns, not all columns help."
   ]
  },
  {
   "cell_type": "code",
   "execution_count": 15,
   "id": "aaea98c2-2a60-4d8e-b992-3d8821661369",
   "metadata": {},
   "outputs": [
    {
     "name": "stdout",
     "output_type": "stream",
     "text": [
      "[28 11  8 39]\n",
      "[28 11  8 39]\n",
      "[35  4  1 46]\n",
      "[35  3  1 47]\n",
      "[35  3  1 47]\n",
      "[35  3  1 47]\n",
      "[35  3  1 47]\n",
      "[35  4  1 46]\n",
      "[35  4  1 46]\n",
      "[35  4  1 46]\n",
      "[35  4  1 46]\n",
      "[35  4  1 46]\n",
      "[35  4  1 46]\n",
      "[35  4  1 46]\n",
      "[35  3  1 47]\n",
      "[35  3  1 47]\n",
      "[35  3  1 47]\n",
      "[35  3  1 47]\n",
      "[35  3  1 47]\n",
      "[35  2  1 48]\n"
     ]
    }
   ],
   "source": [
    "import warnings\n",
    "\n",
    "# Suppress FutureWarning for 'penalty='none''\n",
    "warnings.simplefilter(action='ignore', category=FutureWarning)\n",
    "\n",
    "#gotta make the empty np array (for conf matrix values) first, \n",
    "# with 1 row (we'll be adding em on later) and 4 columns\n",
    "accuracies = np.empty((1, 4))\n",
    "accuracies = accuracies.astype(int)\n",
    "\n",
    "for k in range(2, 22):\n",
    "    # X = df_train.iloc[:, 1:k] # should be 27 (actualy 32)\n",
    "    X = pd.concat([df_train.iloc[:, 2:k], df_train.loc[:, 23:32], df_train.loc[:, 1]], axis=1)\n",
    "    y = df_train.iloc[:, 0]\n",
    "    X = X.astype(int)\n",
    "    y = y.astype(int)\n",
    "    clf = LogisticRegression(penalty='none', max_iter=1000) # logistic regression with no penalty term in the cost function.\n",
    "    clf.fit(X, y)\n",
    "    \n",
    "    X_test = pd.concat([df_test.iloc[:, 2:k], df_test.loc[:, 23:32], df_test.loc[:, 1]], axis=1)\n",
    "    y_test = df_test.iloc[:, 0]\n",
    "    y_test = y_test.astype(int)\n",
    "    X_test = X_test.astype(int)\n",
    "    \n",
    "    test_prob = clf.predict_proba(X_test)[:, 1]\n",
    "    test_pred = clf.predict(X_test)\n",
    "    #print(test_prob, test_pred)\n",
    "    \n",
    "    from sklearn.metrics import ConfusionMatrixDisplay\n",
    "    cm = ConfusionMatrixDisplay.from_estimator(clf, X_test, y_test)\n",
    "    #cm_display.plot()\n",
    "    plt.close()\n",
    "    \n",
    "    confusion_matrix = cm.confusion_matrix\n",
    "    confusion_matrix = confusion_matrix.astype(int)\n",
    "    # now, I'll extract true_pos, false_pos, false_neg, and true_neg, \n",
    "    # and store them in an array. \n",
    "\n",
    "    new_row = np.array([\n",
    "        int(round(confusion_matrix[1, 1])),\n",
    "        int(round(confusion_matrix[0, 1])),\n",
    "        int(round(confusion_matrix[1, 0])),\n",
    "        int(round(confusion_matrix[0, 0]))\n",
    "    ])\n",
    "    \n",
    "    print(new_row)\n",
    "    \n",
    "    #accuracies.append(new_row)\n",
    "    \n",
    "    accuracies = np.concatenate([accuracies, [new_row]], axis=0)\n",
    "    #accuracies = np.concatenate((accuracies, new_row[np.newaxis, :]), axis=0)\n",
    "\n",
    "    #plt var 1 by var 2, coloured for accuracy to see trends"
   ]
  },
  {
   "cell_type": "markdown",
   "id": "48d930bb-8703-44a7-8ab8-83fc5919f18b",
   "metadata": {},
   "source": [
    "# 10) Now we know how the confusion matrix works. We want to build a model that has 85%+ accuracy but minimizes the number of genes. In the code below, we're choosing every combination of 2 genes from the 20 we have, extracting the matrix values and thus accuracy, storing them, and then printing them all at the end."
   ]
  },
  {
   "cell_type": "code",
   "execution_count": 22,
   "id": "dfe88680-65ed-4027-a488-f8fcf05e8956",
   "metadata": {},
   "outputs": [],
   "source": [
    "#print(accuracies)"
   ]
  },
  {
   "cell_type": "code",
   "execution_count": 23,
   "id": "f2679c24-647f-4853-8453-f154e045f675",
   "metadata": {},
   "outputs": [
    {
     "name": "stdout",
     "output_type": "stream",
     "text": [
      "0.8953488372093024\n",
      "0.7558139534883721\n",
      "0.7558139534883721\n",
      "0.8023255813953488\n",
      "0.7790697674418605\n",
      "0.8372093023255814\n",
      "0.7441860465116279\n",
      "0.7558139534883721\n",
      "0.7558139534883721\n",
      "0.7441860465116279\n",
      "0.7674418604651163\n",
      "0.7674418604651163\n",
      "0.7674418604651163\n",
      "0.7558139534883721\n",
      "0.7558139534883721\n",
      "0.7558139534883721\n",
      "0.7674418604651163\n",
      "0.8953488372093024\n",
      "0.872093023255814\n",
      "0.872093023255814\n",
      "0.8837209302325582\n",
      "0.8837209302325582\n",
      "0.8837209302325582\n",
      "0.8837209302325582\n",
      "0.872093023255814\n",
      "0.8837209302325582\n",
      "0.8837209302325582\n",
      "0.8837209302325582\n",
      "0.8953488372093024\n",
      "0.8837209302325582\n",
      "0.8837209302325582\n",
      "0.8837209302325582\n",
      "0.8837209302325582\n",
      "0.7674418604651163\n",
      "0.8023255813953488\n",
      "0.7558139534883721\n",
      "0.8372093023255814\n",
      "0.7558139534883721\n",
      "0.7674418604651163\n",
      "0.7674418604651163\n",
      "0.7558139534883721\n",
      "0.7790697674418605\n",
      "0.7790697674418605\n",
      "0.7790697674418605\n",
      "0.7674418604651163\n",
      "0.7674418604651163\n",
      "0.7674418604651163\n",
      "0.7790697674418605\n",
      "0.7906976744186046\n",
      "0.7674418604651163\n",
      "0.8372093023255814\n",
      "0.7441860465116279\n",
      "0.7674418604651163\n",
      "0.7674418604651163\n",
      "0.7558139534883721\n",
      "0.7674418604651163\n",
      "0.7790697674418605\n",
      "0.7558139534883721\n",
      "0.7674418604651163\n",
      "0.7674418604651163\n",
      "0.7674418604651163\n",
      "0.7790697674418605\n",
      "0.813953488372093\n",
      "0.8604651162790697\n",
      "0.7906976744186046\n",
      "0.8023255813953488\n",
      "0.8023255813953488\n",
      "0.8023255813953488\n",
      "0.8023255813953488\n",
      "0.8023255813953488\n",
      "0.813953488372093\n",
      "0.7906976744186046\n",
      "0.8023255813953488\n",
      "0.8023255813953488\n",
      "0.813953488372093\n",
      "0.8372093023255814\n",
      "0.7674418604651163\n",
      "0.7674418604651163\n",
      "0.7674418604651163\n",
      "0.7674418604651163\n",
      "0.7790697674418605\n",
      "0.7790697674418605\n",
      "0.7790697674418605\n",
      "0.7674418604651163\n",
      "0.7674418604651163\n",
      "0.7674418604651163\n",
      "0.7790697674418605\n",
      "0.8255813953488372\n",
      "0.8372093023255814\n",
      "0.8372093023255814\n",
      "0.8372093023255814\n",
      "0.8488372093023255\n",
      "0.8488372093023255\n",
      "0.8488372093023255\n",
      "0.8372093023255814\n",
      "0.8372093023255814\n",
      "0.8372093023255814\n",
      "0.8255813953488372\n",
      "0.7558139534883721\n",
      "0.7558139534883721\n",
      "0.7558139534883721\n",
      "0.7674418604651163\n",
      "0.7674418604651163\n",
      "0.7674418604651163\n",
      "0.7558139534883721\n",
      "0.7558139534883721\n",
      "0.7558139534883721\n",
      "0.7674418604651163\n",
      "0.7674418604651163\n",
      "0.7558139534883721\n",
      "0.7674418604651163\n",
      "0.7790697674418605\n",
      "0.7674418604651163\n",
      "0.7674418604651163\n",
      "0.7674418604651163\n",
      "0.7674418604651163\n",
      "0.7790697674418605\n",
      "0.7558139534883721\n",
      "0.7790697674418605\n",
      "0.7790697674418605\n",
      "0.7790697674418605\n",
      "0.7674418604651163\n",
      "0.7674418604651163\n",
      "0.7674418604651163\n",
      "0.7790697674418605\n",
      "0.7674418604651163\n",
      "0.7674418604651163\n",
      "0.7674418604651163\n",
      "0.7558139534883721\n",
      "0.7558139534883721\n",
      "0.7558139534883721\n",
      "0.7674418604651163\n",
      "0.7906976744186046\n",
      "0.7674418604651163\n",
      "0.7790697674418605\n",
      "0.7790697674418605\n",
      "0.7790697674418605\n",
      "0.7674418604651163\n",
      "0.7906976744186046\n",
      "0.8023255813953488\n",
      "0.7790697674418605\n",
      "0.7790697674418605\n",
      "0.7906976744186046\n",
      "0.7790697674418605\n",
      "0.7790697674418605\n",
      "0.7558139534883721\n",
      "0.7906976744186046\n",
      "0.7674418604651163\n",
      "0.7674418604651163\n",
      "0.7790697674418605\n",
      "0.7674418604651163\n",
      "0.7790697674418605\n",
      "0.7674418604651163\n"
     ]
    }
   ],
   "source": [
    "from itertools import combinations\n",
    "\n",
    "# remember that columns 2 to 22 now hold the genetic data, but its still 20 points to choose from\n",
    "total_columns = 20\n",
    "# increase this if results not good\n",
    "num_columns_to_select = 2\n",
    "\n",
    "accuracies = np.empty((0, 4))\n",
    "accuracies = accuracies.astype(int)\n",
    "\n",
    "actual_accuracy_list = np.empty((0,1))\n",
    "\n",
    "# start at 2 because column 0 holds the results, and column 1 holds the race\n",
    "column_combinations = [combo for combo in combinations(range(2, total_columns), num_columns_to_select)]\n",
    "# empty list to store the order of which columns are being chosen in each iteration \n",
    "selected_columns_list = []\n",
    "selected_combos_list = []\n",
    "\n",
    "for combo in column_combinations:\n",
    "    selected_columns = data[:, list(combo)]\n",
    "    selected_combos_list.append(combo)\n",
    "    selected_columns_list.append(selected_columns)\n",
    "    \n",
    "    selected_columns = pd.concat([df_train.iloc[:, list(combo)], df_train.loc[:, 23:32], df_train.loc[:, 1]], axis=1) # columns 23 ro 40 are 'free' data\n",
    "\n",
    "    #X = df_train.iloc[:, list(combo)] # should be 27 (actualy 22)\n",
    "    #X = df_train.iloc[:, list(combo)+list(range(23, 28))]\n",
    "    X = df_train.iloc[:, list(combo)+list(range(1,2))+list(range(23, 32))]\n",
    "    y = df_train.iloc[:, 0]\n",
    "    X = X.astype(int)\n",
    "    y = y.astype(int)\n",
    "    clf = LogisticRegression(penalty='none') # logistic regression with no penalty term in the cost function.\n",
    "    clf.fit(X, y)\n",
    "    \n",
    "    #X_test = df_test.iloc[:, list(combo)]\n",
    "    X_test = df_test.iloc[:, list(combo)+list(range(1,2))+list(range(23, 32))]\n",
    "    y_test = df_test.iloc[:, 0]\n",
    "    y_test = y_test.astype(int)\n",
    "    X_test = X_test.astype(int)\n",
    "    \n",
    "    test_prob = clf.predict_proba(X_test)[:, 1]\n",
    "    test_pred = clf.predict(X_test)\n",
    "    #print(test_prob, test_pred)\n",
    "    \n",
    "    from sklearn.metrics import ConfusionMatrixDisplay\n",
    "    cm_display = ConfusionMatrixDisplay.from_estimator(clf, X_test, y_test)\n",
    "    #cm_display.plot()\n",
    "    plt.close()\n",
    "    confusion_matrix = cm_display.confusion_matrix\n",
    "    confusion_matrix = confusion_matrix.astype(int)\n",
    "    # now, I'll extract true_pos, false_pos, false_neg, and true_neg, \n",
    "    # and store them in an array. \n",
    "\n",
    "    new_row = np.array([\n",
    "        int(round(confusion_matrix[1, 1])),\n",
    "        int(round(confusion_matrix[0, 1])),\n",
    "        int(round(confusion_matrix[1, 0])),\n",
    "        int(round(confusion_matrix[0, 0]))\n",
    "    ])\n",
    "    #print(new_row)\n",
    "    #accuracies.append(new_row)\n",
    "    \n",
    "    accuracies = np.concatenate([accuracies, [new_row]], axis=0)\n",
    "    \n",
    "    actual_accuracy = (confusion_matrix[0, 0] + confusion_matrix[1, 1]) / np.sum(confusion_matrix)\n",
    "    actual_accuracy_list = np.append(actual_accuracy_list, [[actual_accuracy]], axis=0)\n",
    "    print(actual_accuracy)\n",
    "    # actual_accuracies = np.concatenate([actual_accuracies, actual_accuracy], axis=0)"
   ]
  },
  {
   "cell_type": "code",
   "execution_count": 18,
   "id": "f9d5f0f4-7ae4-483a-807e-f83b408e0871",
   "metadata": {},
   "outputs": [
    {
     "data": {
      "text/plain": [
       "(153, 1)"
      ]
     },
     "execution_count": 18,
     "metadata": {},
     "output_type": "execute_result"
    }
   ],
   "source": [
    "# so now I have this array of \n",
    "actual_accuracy_list.shape"
   ]
  },
  {
   "cell_type": "markdown",
   "id": "cd75f6da-1ed9-4aab-90a9-c809101aebe9",
   "metadata": {},
   "source": [
    "# 11) Now we have all the accuracy values, let's only consider the ones which are above 85% (and print the index of their genes (index as in index in our modified dataframe, where genes begin at index 2 and go to 22, too)."
   ]
  },
  {
   "cell_type": "code",
   "execution_count": 19,
   "id": "daf5b583-fbc5-451f-8073-17ab89738614",
   "metadata": {},
   "outputs": [
    {
     "name": "stdout",
     "output_type": "stream",
     "text": [
      "Indices above 0.95: [ 0 17 18 19 20 21 22 23 24 25 26 27 28 29 30 31 32 63]\n",
      "Values above 0.95: [0.89534884 0.89534884 0.87209302 0.87209302 0.88372093 0.88372093\n",
      " 0.88372093 0.88372093 0.87209302 0.88372093 0.88372093 0.88372093\n",
      " 0.89534884 0.88372093 0.88372093 0.88372093 0.88372093 0.86046512]\n",
      "Index: 0, Percent: 0.8953488372093024\n",
      "(2, 3)\n",
      "Index: 17, Percent: 0.8953488372093024\n",
      "(3, 4)\n",
      "Index: 18, Percent: 0.872093023255814\n",
      "(3, 5)\n",
      "Index: 19, Percent: 0.872093023255814\n",
      "(3, 6)\n",
      "Index: 20, Percent: 0.8837209302325582\n",
      "(3, 7)\n",
      "Index: 21, Percent: 0.8837209302325582\n",
      "(3, 8)\n",
      "Index: 22, Percent: 0.8837209302325582\n",
      "(3, 9)\n",
      "Index: 23, Percent: 0.8837209302325582\n",
      "(3, 10)\n",
      "Index: 24, Percent: 0.872093023255814\n",
      "(3, 11)\n",
      "Index: 25, Percent: 0.8837209302325582\n",
      "(3, 12)\n",
      "Index: 26, Percent: 0.8837209302325582\n",
      "(3, 13)\n",
      "Index: 27, Percent: 0.8837209302325582\n",
      "(3, 14)\n",
      "Index: 28, Percent: 0.8953488372093024\n",
      "(3, 15)\n",
      "Index: 29, Percent: 0.8837209302325582\n",
      "(3, 16)\n",
      "Index: 30, Percent: 0.8837209302325582\n",
      "(3, 17)\n",
      "Index: 31, Percent: 0.8837209302325582\n",
      "(3, 18)\n",
      "Index: 32, Percent: 0.8837209302325582\n",
      "(3, 19)\n",
      "Index: 63, Percent: 0.8604651162790697\n",
      "(6, 8)\n"
     ]
    }
   ],
   "source": [
    "# Find indices and elements of actual_accuracy list where its above 85%\n",
    "indices_above_threshold = np.where(actual_accuracy_list > 0.85)[0]\n",
    "values_above_threshold = actual_accuracy_list[actual_accuracy_list > 0.85]\n",
    "\n",
    "# Print the results\n",
    "print(\"Indices above 0.85:\", indices_above_threshold)\n",
    "print(\"Values above 0.85:\", values_above_threshold)\n",
    "#observe that even though we did 20 choose 2, essentially only the earlier iterations have highest accuracy. \n",
    "# this suggests that genes in the beginning play a larger role.\n",
    "\n",
    "for index, percent in zip(indices_above_threshold, values_above_threshold):\n",
    "    print(f\"Index: {index}, Percent: {percent}\")\n",
    "    print(selected_combos_list[index])\n",
    "    # subtracted 2 because the index will ALWAYS start at 2 because that's where our genes start in the df.\n"
   ]
  },
  {
   "cell_type": "markdown",
   "id": "f5afe483-f535-45ab-bf9c-6617aa63ddf6",
   "metadata": {},
   "source": [
    "# 12) Now, let's consider the ones which have a good balance between true positives and true negatives. We don't want less than 40 true negatives (or 10 false positives), and don't want less than 34 true negatives (or 2 false negatives). We're focusing on false negatives (which we define as people who have the more severe  "
   ]
  },
  {
   "cell_type": "code",
   "execution_count": 20,
   "id": "c06d7756-7b88-4848-bb9b-6014f62f8956",
   "metadata": {},
   "outputs": [
    {
     "name": "stdout",
     "output_type": "stream",
     "text": [
      "Index: 0, Row: [35  8  1 42]\n",
      "(2, 3)\n",
      "Index: 17, Row: [35  8  1 42]\n",
      "(3, 4)\n",
      "Index: 20, Row: [34  8  2 42]\n",
      "(3, 7)\n",
      "Index: 21, Row: [35  9  1 41]\n",
      "(3, 8)\n",
      "Index: 22, Row: [34  8  2 42]\n",
      "(3, 9)\n",
      "Index: 23, Row: [34  8  2 42]\n",
      "(3, 10)\n",
      "Index: 25, Row: [34  8  2 42]\n",
      "(3, 12)\n",
      "Index: 26, Row: [34  8  2 42]\n",
      "(3, 13)\n",
      "Index: 27, Row: [34  8  2 42]\n",
      "(3, 14)\n",
      "Index: 28, Row: [34  7  2 43]\n",
      "(3, 15)\n",
      "Index: 29, Row: [34  8  2 42]\n",
      "(3, 16)\n",
      "Index: 30, Row: [34  8  2 42]\n",
      "(3, 17)\n",
      "Index: 31, Row: [34  8  2 42]\n",
      "(3, 18)\n",
      "Index: 32, Row: [34  8  2 42]\n",
      "(3, 19)\n"
     ]
    }
   ],
   "source": [
    "selected_indices = np.where((accuracies[:, 3] >= 40) & (accuracies[:, 0] >= 34))[0]\n",
    "selected_rows = accuracies[(accuracies[:, 3] >= 40) & (accuracies[:, 0] >= 34)]\n",
    "\n",
    "# Print the selected rows\n",
    "#print(selected_rows)\n",
    "for index, row in zip(selected_indices, selected_rows):\n",
    "    print(f\"Index: {index}, Row: {row}\")\n",
    "    print(selected_combos_list[index])\n",
    "\n",
    "# from this, we can guess that genes in positions 3 and 5, or perhaps 4 and 5, are the most useful in making predictions. \n",
    "# note that the gene in position 2 is actually the \"first\" gene, because that's where the gene columns begin in our df"
   ]
  },
  {
   "cell_type": "markdown",
   "id": "e03768f9-438d-45e2-a6a8-3993516e4a11",
   "metadata": {},
   "source": [
    "# Other approach: making a heat map"
   ]
  },
  {
   "cell_type": "code",
   "execution_count": 21,
   "id": "195f273c-064a-4066-b40e-0039d2b51dbc",
   "metadata": {},
   "outputs": [
    {
     "name": "stdout",
     "output_type": "stream",
     "text": [
      "[[0.         0.89534884 0.75581395 0.75581395 0.80232558 0.77906977\n",
      "  0.8372093  0.74418605 0.75581395 0.75581395 0.74418605 0.76744186\n",
      "  0.76744186 0.76744186 0.75581395 0.75581395 0.75581395 0.76744186\n",
      "  0.89534884 0.87209302]\n",
      " [0.         0.         0.87209302 0.88372093 0.88372093 0.88372093\n",
      "  0.88372093 0.87209302 0.88372093 0.88372093 0.88372093 0.89534884\n",
      "  0.88372093 0.88372093 0.88372093 0.88372093 0.76744186 0.80232558\n",
      "  0.75581395 0.8372093 ]\n",
      " [0.         0.         0.         0.75581395 0.76744186 0.76744186\n",
      "  0.75581395 0.77906977 0.77906977 0.77906977 0.76744186 0.76744186\n",
      "  0.76744186 0.77906977 0.79069767 0.76744186 0.8372093  0.74418605\n",
      "  0.76744186 0.76744186]\n",
      " [0.         0.         0.         0.         0.75581395 0.76744186\n",
      "  0.77906977 0.75581395 0.76744186 0.76744186 0.76744186 0.77906977\n",
      "  0.81395349 0.86046512 0.79069767 0.80232558 0.80232558 0.80232558\n",
      "  0.80232558 0.80232558]\n",
      " [0.         0.         0.         0.         0.         0.81395349\n",
      "  0.79069767 0.80232558 0.80232558 0.81395349 0.8372093  0.76744186\n",
      "  0.76744186 0.76744186 0.76744186 0.77906977 0.77906977 0.77906977\n",
      "  0.76744186 0.76744186]\n",
      " [0.         0.         0.         0.         0.         0.\n",
      "  0.76744186 0.77906977 0.8255814  0.8372093  0.8372093  0.8372093\n",
      "  0.84883721 0.84883721 0.84883721 0.8372093  0.8372093  0.8372093\n",
      "  0.8255814  0.75581395]\n",
      " [0.         0.         0.         0.         0.         0.\n",
      "  0.         0.75581395 0.75581395 0.76744186 0.76744186 0.76744186\n",
      "  0.75581395 0.75581395 0.75581395 0.76744186 0.76744186 0.75581395\n",
      "  0.76744186 0.77906977]\n",
      " [0.         0.         0.         0.         0.         0.\n",
      "  0.         0.         0.76744186 0.76744186 0.76744186 0.76744186\n",
      "  0.77906977 0.75581395 0.77906977 0.77906977 0.77906977 0.76744186\n",
      "  0.76744186 0.76744186]\n",
      " [0.         0.         0.         0.         0.         0.\n",
      "  0.         0.         0.         0.77906977 0.76744186 0.76744186\n",
      "  0.76744186 0.75581395 0.75581395 0.75581395 0.76744186 0.79069767\n",
      "  0.76744186 0.77906977]\n",
      " [0.         0.         0.         0.         0.         0.\n",
      "  0.         0.         0.         0.         0.77906977 0.77906977\n",
      "  0.76744186 0.79069767 0.80232558 0.77906977 0.77906977 0.79069767\n",
      "  0.77906977 0.77906977]\n",
      " [0.         0.         0.         0.         0.         0.\n",
      "  0.         0.         0.         0.         0.         0.75581395\n",
      "  0.79069767 0.76744186 0.76744186 0.77906977 0.76744186 0.77906977\n",
      "  0.76744186 0.        ]\n",
      " [0.         0.         0.         0.         0.         0.\n",
      "  0.         0.         0.         0.         0.         0.\n",
      "  0.         0.         0.         0.         0.         0.\n",
      "  0.         0.        ]\n",
      " [0.         0.         0.         0.         0.         0.\n",
      "  0.         0.         0.         0.         0.         0.\n",
      "  0.         0.         0.         0.         0.         0.\n",
      "  0.         0.        ]\n",
      " [0.         0.         0.         0.         0.         0.\n",
      "  0.         0.         0.         0.         0.         0.\n",
      "  0.         0.         0.         0.         0.         0.\n",
      "  0.         0.        ]\n",
      " [0.         0.         0.         0.         0.         0.\n",
      "  0.         0.         0.         0.         0.         0.\n",
      "  0.         0.         0.         0.         0.         0.\n",
      "  0.         0.        ]\n",
      " [0.         0.         0.         0.         0.         0.\n",
      "  0.         0.         0.         0.         0.         0.\n",
      "  0.         0.         0.         0.         0.         0.\n",
      "  0.         0.        ]\n",
      " [0.         0.         0.         0.         0.         0.\n",
      "  0.         0.         0.         0.         0.         0.\n",
      "  0.         0.         0.         0.         0.         0.\n",
      "  0.         0.        ]\n",
      " [0.         0.         0.         0.         0.         0.\n",
      "  0.         0.         0.         0.         0.         0.\n",
      "  0.         0.         0.         0.         0.         0.\n",
      "  0.         0.        ]\n",
      " [0.         0.         0.         0.         0.         0.\n",
      "  0.         0.         0.         0.         0.         0.\n",
      "  0.         0.         0.         0.         0.         0.\n",
      "  0.         0.        ]\n",
      " [0.         0.         0.         0.         0.         0.\n",
      "  0.         0.         0.         0.         0.         0.\n",
      "  0.         0.         0.         0.         0.         0.\n",
      "  0.         0.        ]]\n"
     ]
    },
    {
     "data": {
      "image/png": "[encoded data removed]",
      "text/plain": [
       "<Figure size 640x480 with 2 Axes>"
      ]
     },
     "metadata": {},
     "output_type": "display_data"
    }
   ],
   "source": [
    "# Assuming accuracies is your NumPy array\n",
    "# Replace this line with your specific data\n",
    "accuracies = np.random.rand(10, 4) * 100  # Example data, replace it with your actual accuracies\n",
    "heatmap = np.zeros((20,20))\n",
    "\n",
    "count = 0\n",
    "for i in range(20):\n",
    "    for j in range(i + 1, 20):\n",
    "        # Check if there are still elements in actual_accuracy_list\n",
    "        if count < len(actual_accuracy_list):\n",
    "            # Assign the value from actual_accuracy_list to the corresponding position in heatmap\n",
    "            heatmap[i, j] = actual_accuracy_list[count]\n",
    "            count += 1\n",
    "\n",
    "# Print the resulting heatmap\n",
    "print(heatmap)\n",
    "\n",
    "# # Create a heatmap\n",
    "plt.imshow(heatmap, cmap='coolwarm', aspect='auto')\n",
    "\n",
    "# Add labels and show the colorbar\n",
    "plt.xlabel('Column Index')\n",
    "plt.ylabel('Row Index')\n",
    "plt.title('Accuracy Heatmap')\n",
    "plt.colorbar(label='Accuracy (%)')\n",
    "plt.xticks(np.arange(0, 20, 1))\n",
    "plt.yticks(np.arange(0, 20, 1))\n",
    "\n",
    "plt.show()"
   ]
  },
  {
   "cell_type": "markdown",
   "id": "2ad225b7-4eb8-4c8d-8f28-857466060437",
   "metadata": {},
   "source": [
    "# One interesting trend here is that genes indexed 17, 18, and 19 only really help improve prediction for the gene with index 1. There are other such trends here that are not immediately visible from the raw data, such as the gene indexed at 6 not being incredibly helpful for improving predictin besides for genes indexed 0 and 1."
   ]
  },
  {
   "cell_type": "code",
   "execution_count": null,
   "id": "14804409-68af-46e9-a9e3-383bcf05ba81",
   "metadata": {},
   "outputs": [],
   "source": []
  }
 ],
 "metadata": {
  "kernelspec": {
   "display_name": "Python 3 (ipykernel)",
   "language": "python",
   "name": "python3"
  },
  "language_info": {
   "codemirror_mode": {
    "name": "ipython",
    "version": 3
   },
   "file_extension": ".py",
   "mimetype": "text/x-python",
   "name": "python",
   "nbconvert_exporter": "python",
   "pygments_lexer": "ipython3",
   "version": "3.10.8"
  }
 },
 "nbformat": 4,
 "nbformat_minor": 5
}
